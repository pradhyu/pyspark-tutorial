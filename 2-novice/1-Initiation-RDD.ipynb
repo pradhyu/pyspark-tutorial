{
  "cells": [
    {
      "cell_type": "markdown",
      "metadata": {
        "id": "5Cmhn8ul9GpU"
      },
      "source": [
        "Before you turn this problem in, make sure everything runs as expected. First, **restart the kernel** (in the menubar, select Kernel$\\rightarrow$Restart) and then **run all cells** (in the menubar, select Cell$\\rightarrow$Run All).\n",
        "\n",
        "Make sure you fill in any place that says `YOUR CODE HERE` or \"YOUR ANSWER HERE\", as well as your name and collaborators below:"
      ]
    },
    {
      "cell_type": "code",
      "execution_count": 2,
      "metadata": {
        "id": "YgvGqBpT9GpV",
        "outputId": "fd228433-6480-44b9-c070-cfc629fa4bae",
        "colab": {
          "base_uri": "https://localhost:8080/"
        }
      },
      "outputs": [
        {
          "output_type": "stream",
          "name": "stdout",
          "text": [
            "Collecting pyspark\n",
            "  Downloading pyspark-3.4.1.tar.gz (310.8 MB)\n",
            "\u001b[2K     \u001b[90m━━━━━━━━━━━━━━━━━━━━━━━━━━━━━━━━━━━━━━━\u001b[0m \u001b[32m310.8/310.8 MB\u001b[0m \u001b[31m2.7 MB/s\u001b[0m eta \u001b[36m0:00:00\u001b[0m\n",
            "\u001b[?25h  Preparing metadata (setup.py) ... \u001b[?25l\u001b[?25hdone\n",
            "Requirement already satisfied: py4j==0.10.9.7 in /usr/local/lib/python3.10/dist-packages (from pyspark) (0.10.9.7)\n",
            "Building wheels for collected packages: pyspark\n",
            "  Building wheel for pyspark (setup.py) ... \u001b[?25l\u001b[?25hdone\n",
            "  Created wheel for pyspark: filename=pyspark-3.4.1-py2.py3-none-any.whl size=311285397 sha256=816061c3ebee30f0f8f322436d88ddf3a560359fa32e28b948454747ac03c711\n",
            "  Stored in directory: /root/.cache/pip/wheels/0d/77/a3/ff2f74cc9ab41f8f594dabf0579c2a7c6de920d584206e0834\n",
            "Successfully built pyspark\n",
            "Installing collected packages: pyspark\n",
            "Successfully installed pyspark-3.4.1\n",
            "The following additional packages will be installed:\n",
            "  libxtst6 openjdk-8-jre-headless\n",
            "Suggested packages:\n",
            "  openjdk-8-demo openjdk-8-source libnss-mdns fonts-dejavu-extra\n",
            "  fonts-ipafont-gothic fonts-ipafont-mincho fonts-wqy-microhei\n",
            "  fonts-wqy-zenhei fonts-indic\n",
            "The following NEW packages will be installed:\n",
            "  libxtst6 openjdk-8-jdk-headless openjdk-8-jre-headless\n",
            "0 upgraded, 3 newly installed, 0 to remove and 8 not upgraded.\n",
            "Need to get 39.7 MB of archives.\n",
            "After this operation, 144 MB of additional disk space will be used.\n",
            "Selecting previously unselected package libxtst6:amd64.\n",
            "(Reading database ... 120493 files and directories currently installed.)\n",
            "Preparing to unpack .../libxtst6_2%3a1.2.3-1build4_amd64.deb ...\n",
            "Unpacking libxtst6:amd64 (2:1.2.3-1build4) ...\n",
            "Selecting previously unselected package openjdk-8-jre-headless:amd64.\n",
            "Preparing to unpack .../openjdk-8-jre-headless_8u372-ga~us1-0ubuntu1~22.04_amd64.deb ...\n",
            "Unpacking openjdk-8-jre-headless:amd64 (8u372-ga~us1-0ubuntu1~22.04) ...\n",
            "Selecting previously unselected package openjdk-8-jdk-headless:amd64.\n",
            "Preparing to unpack .../openjdk-8-jdk-headless_8u372-ga~us1-0ubuntu1~22.04_amd64.deb ...\n",
            "Unpacking openjdk-8-jdk-headless:amd64 (8u372-ga~us1-0ubuntu1~22.04) ...\n",
            "Setting up libxtst6:amd64 (2:1.2.3-1build4) ...\n",
            "Setting up openjdk-8-jre-headless:amd64 (8u372-ga~us1-0ubuntu1~22.04) ...\n",
            "update-alternatives: using /usr/lib/jvm/java-8-openjdk-amd64/jre/bin/orbd to provide /usr/bin/orbd (orbd) in auto mode\n",
            "update-alternatives: using /usr/lib/jvm/java-8-openjdk-amd64/jre/bin/servertool to provide /usr/bin/servertool (servertool) in auto mode\n",
            "update-alternatives: using /usr/lib/jvm/java-8-openjdk-amd64/jre/bin/tnameserv to provide /usr/bin/tnameserv (tnameserv) in auto mode\n",
            "Setting up openjdk-8-jdk-headless:amd64 (8u372-ga~us1-0ubuntu1~22.04) ...\n",
            "update-alternatives: using /usr/lib/jvm/java-8-openjdk-amd64/bin/clhsdb to provide /usr/bin/clhsdb (clhsdb) in auto mode\n",
            "update-alternatives: using /usr/lib/jvm/java-8-openjdk-amd64/bin/extcheck to provide /usr/bin/extcheck (extcheck) in auto mode\n",
            "update-alternatives: using /usr/lib/jvm/java-8-openjdk-amd64/bin/hsdb to provide /usr/bin/hsdb (hsdb) in auto mode\n",
            "update-alternatives: using /usr/lib/jvm/java-8-openjdk-amd64/bin/idlj to provide /usr/bin/idlj (idlj) in auto mode\n",
            "update-alternatives: using /usr/lib/jvm/java-8-openjdk-amd64/bin/javah to provide /usr/bin/javah (javah) in auto mode\n",
            "update-alternatives: using /usr/lib/jvm/java-8-openjdk-amd64/bin/jhat to provide /usr/bin/jhat (jhat) in auto mode\n",
            "update-alternatives: using /usr/lib/jvm/java-8-openjdk-amd64/bin/jsadebugd to provide /usr/bin/jsadebugd (jsadebugd) in auto mode\n",
            "update-alternatives: using /usr/lib/jvm/java-8-openjdk-amd64/bin/native2ascii to provide /usr/bin/native2ascii (native2ascii) in auto mode\n",
            "update-alternatives: using /usr/lib/jvm/java-8-openjdk-amd64/bin/schemagen to provide /usr/bin/schemagen (schemagen) in auto mode\n",
            "update-alternatives: using /usr/lib/jvm/java-8-openjdk-amd64/bin/wsgen to provide /usr/bin/wsgen (wsgen) in auto mode\n",
            "update-alternatives: using /usr/lib/jvm/java-8-openjdk-amd64/bin/wsimport to provide /usr/bin/wsimport (wsimport) in auto mode\n",
            "update-alternatives: using /usr/lib/jvm/java-8-openjdk-amd64/bin/xjc to provide /usr/bin/xjc (xjc) in auto mode\n",
            "Processing triggers for libc-bin (2.35-0ubuntu3.1) ...\n"
          ]
        }
      ],
      "source": [
        "NAME = \"\"\n",
        "COLLABORATORS = \"\"\n",
        "!pip install pyspark\n",
        "!pip install -U -q PyDrive\n",
        "!apt install openjdk-8-jdk-headless -qq\n",
        "import os\n",
        "os.environ[\"JAVA_HOME\"] = \"/usr/lib/jvm/java-8-openjdk-amd64\""
      ]
    },
    {
      "cell_type": "markdown",
      "metadata": {
        "id": "jTOz8-u49GpW"
      },
      "source": [
        "---"
      ]
    },
    {
      "cell_type": "markdown",
      "metadata": {
        "deletable": false,
        "editable": false,
        "nbgrader": {
          "cell_type": "markdown",
          "checksum": "da2a8aca98449262e2378ed329769175",
          "grade": false,
          "grade_id": "cell-789d302adeedd3cf",
          "locked": true,
          "schema_version": 3,
          "solution": false
        },
        "id": "J0btnYy49GpW"
      },
      "source": [
        "---\n",
        "# First steps into Spark\n",
        "\n",
        "In this notebook, we will launch our very first Spark code.\n",
        "\n",
        "![Spark logo](http://spark.apache.org/images/spark-logo-trademark.png)\n",
        "\n",
        "[Apache Spark](http://spark.apache.org/) is a cluster computing engine designed to be __fast__ and __general-purpose__, making it the ideal choice for processing of large datasets. It answers those two points with __efficient data sharing__ accross computations.\n",
        "<hr/>\n",
        "The past years have seen a major changes in computing systems, as growing data volumes required more and more applications to scale out to large clusters. To solve this problem, a wide range of new programming models have been designed to manage multiple types of computations in a distributed fashion, without having people learn too much about distributed systems. Those programming models would need to deal with _parallelism, fault-tolerance and resource sharing_ for us.\n",
        "\n",
        "[Google's MapReduce](https://en.wikipedia.org/wiki/MapReduce) presented a simple and general model for batch processing, which handles faults and parallelism easily. Unfortunately the programming model is not adapted for other types of workloads, and multiple specialized systems were born to answer a specific need in a distributed way.\n",
        "* Iterative : Giraph\n",
        "* Interactive : Impala, Piccolo, Greenplum\n",
        "* Streaming : Storm, Millwheel\n",
        "\n",
        "The initial goal of Apache Spark is to try and unify all of the workloads for generality purposes. [Matei Zaharia](https://cs.stanford.edu/~matei/) in his [PhD dissertation](https://www2.eecs.berkeley.edu/Pubs/TechRpts/2014/EECS-2014-12.pdf) suggests that most of the data flow models that required a specialized system needed _efficient data sharing_ accross computations:\n",
        "* Iterative algorithms like PageRank or K-Means need to make multiple passes over the same dataset\n",
        "* Interactive data mining often requires running multiple ad-hoc queries on the same subset of data\n",
        "* Streaming applications need to maintain and share state over time.\n",
        "\n",
        "He then proposes to create a new abstraction that gives its users direct control over data sharing, something that other specialized systems would have built-in for their specific needs. The abstraction is implemented inside a new engine that is today called Apache Spark. The engine makes it possible to support more types of computations than with the original MapReduce in a more efficient way, including interactive queries and stream processing."
      ]
    },
    {
      "cell_type": "markdown",
      "metadata": {
        "deletable": false,
        "editable": false,
        "nbgrader": {
          "cell_type": "markdown",
          "checksum": "3bdfefb19a33a9c92537615455246640",
          "grade": false,
          "grade_id": "cell-f13874c60f276475",
          "locked": true,
          "schema_version": 3,
          "solution": false
        },
        "id": "5KJ_ddQZ9GpX"
      },
      "source": [
        "---\n",
        "## Prerequisites\n",
        "\n",
        "Before running Spark code, we need to start a SparkContext instance. The following block will be common to every notebook so you can run your code.\n",
        "\n",
        "While your SparkContext is running, you can hit `http://localhost:4040` or `http://host.docker.internal:4040` to get an overview of your Spark local cluster and all operations ongoing."
      ]
    },
    {
      "cell_type": "code",
      "execution_count": 9,
      "metadata": {
        "deletable": false,
        "editable": false,
        "nbgrader": {
          "cell_type": "code",
          "checksum": "881c773abc4f0645a9261088dbc97f74",
          "grade": false,
          "grade_id": "initialize-sc",
          "locked": true,
          "schema_version": 3,
          "solution": false
        },
        "id": "OcnmhWHn9GpX",
        "outputId": "e0b899f6-9876-4773-f57c-e7d74fe9735e",
        "colab": {
          "base_uri": "https://localhost:8080/",
          "height": 196
        }
      },
      "outputs": [
        {
          "output_type": "execute_result",
          "data": {
            "text/plain": [
              "<SparkContext master=local appName=lecture-lyon2>"
            ],
            "text/html": [
              "\n",
              "        <div>\n",
              "            <p><b>SparkContext</b></p>\n",
              "\n",
              "            <p><a href=\"http://2b176c326948:4040\">Spark UI</a></p>\n",
              "\n",
              "            <dl>\n",
              "              <dt>Version</dt>\n",
              "                <dd><code>v3.4.1</code></dd>\n",
              "              <dt>Master</dt>\n",
              "                <dd><code>local</code></dd>\n",
              "              <dt>AppName</dt>\n",
              "                <dd><code>lecture-lyon2</code></dd>\n",
              "            </dl>\n",
              "        </div>\n",
              "        "
            ]
          },
          "metadata": {},
          "execution_count": 9
        }
      ],
      "source": [
        "from pyspark import SparkContext, SparkConf\n",
        "\n",
        "conf = SparkConf().setAppName('lecture-lyon2').setMaster('local')\n",
        "sc = SparkContext.getOrCreate(conf=conf)\n",
        "sc"
      ]
    },
    {
      "cell_type": "code",
      "execution_count": 10,
      "metadata": {
        "deletable": false,
        "editable": false,
        "nbgrader": {
          "cell_type": "code",
          "checksum": "0ca9491827264a694b914f20812198bb",
          "grade": false,
          "grade_id": "cell-697fccdd14c7eba3",
          "locked": true,
          "schema_version": 3,
          "solution": false
        },
        "id": "uo5BNfBm9GpX"
      },
      "outputs": [],
      "source": [
        "# Import other important libraries\n",
        "\n",
        "from pyspark.rdd import RDD"
      ]
    },
    {
      "cell_type": "code",
      "execution_count": 11,
      "metadata": {
        "id": "t-YipJRg9GpX"
      },
      "outputs": [],
      "source": [
        "filePath = 'FL_insurance_sample.csv'"
      ]
    },
    {
      "cell_type": "markdown",
      "metadata": {
        "deletable": false,
        "editable": false,
        "nbgrader": {
          "cell_type": "markdown",
          "checksum": "5f6a11d7cbd69eb0dad39b165e1bdfa8",
          "grade": false,
          "grade_id": "cell-a60d771258278db0",
          "locked": true,
          "schema_version": 3,
          "solution": false
        },
        "id": "Bk-u0WhO9GpX"
      },
      "source": [
        "---\n",
        "## Part A - Your first RDDs\n",
        "\n",
        "In this chapter, we are going to introduce Spark's core abstraction for working with data in a distributed and resilient way : the <text style=\"color:red;\">resilient distributed dataset</text>, or <text style=\"color:red;\">RDD</text>. Under the hood, Spark automatically performs the distribution of RDDs and its processing around the cluster, so we can focus on our code and not on distributed processing problems, such as the handling of data locality or resiliency in case of node failure.\n",
        "\n",
        "A RDD consists of a collection of elements partitioned accross the nodes of a cluster of machines that can be operated on in parallel. In Spark, work is expressed by the creation and transformation of RDDs using Spark operators.\n",
        "\n",
        "<text style=\"color:red;\">Note</text> : RDD is the core data structure to Spark, but the style of programming we are studying in this lesson is considered the _lowest-level API_ for Spark. The Spark community is pushing the use of Structured programming with Dataframes/Datasets instead, an optimized interface for working with structured and semi-structured data, which we will learn later. Understanding RDDs is still important because it teaches you how Spark works under the hood and will serve you to understand and optimize your application when deployed into production.\n",
        "\n",
        "There are two ways to create RDDs: parallelizing an existing collection in your driver program, or referencing a dataset in an external storage system, such as a shared filesystem, HDFS, HBase, or any data source offering a Hadoop InputFormat."
      ]
    },
    {
      "cell_type": "markdown",
      "metadata": {
        "deletable": false,
        "editable": false,
        "nbgrader": {
          "cell_type": "markdown",
          "checksum": "340125ef17236477990abd41627b94d4",
          "grade": false,
          "grade_id": "cell-21aba7e92534130a",
          "locked": true,
          "schema_version": 3,
          "solution": false
        },
        "id": "cCGMc6lm9GpX"
      },
      "source": [
        "## Question\n",
        "\n",
        "Generate a RDD from a Python array with the `parallelize` method."
      ]
    },
    {
      "cell_type": "code",
      "execution_count": 12,
      "metadata": {
        "id": "VRm_n2v69GpY",
        "outputId": "64afbdfa-81b5-4553-d1f7-b089059d5920",
        "colab": {
          "base_uri": "https://localhost:8080/"
        }
      },
      "outputs": [
        {
          "output_type": "execute_result",
          "data": {
            "text/plain": [
              "[1, 2, 3]"
            ]
          },
          "metadata": {},
          "execution_count": 12
        }
      ],
      "source": [
        "sc.parallelize([1, 2, 3]).collect()"
      ]
    },
    {
      "cell_type": "code",
      "execution_count": 14,
      "metadata": {
        "deletable": false,
        "nbgrader": {
          "cell_type": "code",
          "checksum": "9f57422f9d38892d06a6f59b803a3a61",
          "grade": false,
          "grade_id": "cell-f93a6aa80b6e1473",
          "locked": false,
          "schema_version": 3,
          "solution": true
        },
        "id": "qrc86dcB9GpY"
      },
      "outputs": [],
      "source": [
        "def rdd_from_list(sc, n):\n",
        "    \"\"\"\n",
        "    Return a RDD consisting of elements from 1 to n.\n",
        "    For now we assume we will always get n > 1, no need to test for the exception nor raise an Exception.\n",
        "    \"\"\"\n",
        "    # YOUR CODE HERE\n",
        "    raise NotImplementedError()"
      ]
    },
    {
      "cell_type": "code",
      "execution_count": 15,
      "metadata": {
        "deletable": false,
        "editable": false,
        "nbgrader": {
          "cell_type": "code",
          "checksum": "815eb3db4a8d51d7cdc10cdd0d302302",
          "grade": true,
          "grade_id": "cell-2d7aaf01d097ce7d",
          "locked": true,
          "points": 1,
          "schema_version": 3,
          "solution": false
        },
        "id": "k4h1miCT9GpY",
        "outputId": "87ac6cdf-09ef-4b87-d102-920da3c02410",
        "colab": {
          "base_uri": "https://localhost:8080/",
          "height": 321
        }
      },
      "outputs": [
        {
          "output_type": "error",
          "ename": "NotImplementedError",
          "evalue": "ignored",
          "traceback": [
            "\u001b[0;31m---------------------------------------------------------------------------\u001b[0m",
            "\u001b[0;31mNotImplementedError\u001b[0m                       Traceback (most recent call last)",
            "\u001b[0;32m<ipython-input-15-bbc73cc2ec61>\u001b[0m in \u001b[0;36m<cell line: 7>\u001b[0;34m()\u001b[0m\n\u001b[1;32m      5\u001b[0m \"\"\"\n\u001b[1;32m      6\u001b[0m \u001b[0;31m# collect() method returns all elements in a RDD to the driver as a local list\u001b[0m\u001b[0;34m\u001b[0m\u001b[0;34m\u001b[0m\u001b[0m\n\u001b[0;32m----> 7\u001b[0;31m \u001b[0mprint\u001b[0m\u001b[0;34m(\u001b[0m\u001b[0mrdd_from_list\u001b[0m\u001b[0;34m(\u001b[0m\u001b[0msc\u001b[0m\u001b[0;34m,\u001b[0m \u001b[0;36m10\u001b[0m\u001b[0;34m)\u001b[0m\u001b[0;34m.\u001b[0m\u001b[0mcollect\u001b[0m\u001b[0;34m(\u001b[0m\u001b[0;34m)\u001b[0m\u001b[0;34m)\u001b[0m\u001b[0;34m\u001b[0m\u001b[0;34m\u001b[0m\u001b[0m\n\u001b[0m\u001b[1;32m      8\u001b[0m \u001b[0;34m\u001b[0m\u001b[0m\n\u001b[1;32m      9\u001b[0m \u001b[0mresult_rdd\u001b[0m \u001b[0;34m=\u001b[0m \u001b[0mrdd_from_list\u001b[0m\u001b[0;34m(\u001b[0m\u001b[0msc\u001b[0m\u001b[0;34m,\u001b[0m \u001b[0;36m3\u001b[0m\u001b[0;34m)\u001b[0m\u001b[0;34m\u001b[0m\u001b[0;34m\u001b[0m\u001b[0m\n",
            "\u001b[0;32m<ipython-input-14-a9298cd04a90>\u001b[0m in \u001b[0;36mrdd_from_list\u001b[0;34m(sc, n)\u001b[0m\n\u001b[1;32m      5\u001b[0m     \"\"\"\n\u001b[1;32m      6\u001b[0m     \u001b[0;31m# YOUR CODE HERE\u001b[0m\u001b[0;34m\u001b[0m\u001b[0;34m\u001b[0m\u001b[0m\n\u001b[0;32m----> 7\u001b[0;31m     \u001b[0;32mraise\u001b[0m \u001b[0mNotImplementedError\u001b[0m\u001b[0;34m(\u001b[0m\u001b[0;34m)\u001b[0m\u001b[0;34m\u001b[0m\u001b[0;34m\u001b[0m\u001b[0m\n\u001b[0m",
            "\u001b[0;31mNotImplementedError\u001b[0m: "
          ]
        }
      ],
      "source": [
        "\"\"\"\n",
        "Graded cell\n",
        "\n",
        "1 point\n",
        "\"\"\"\n",
        "# collect() method returns all elements in a RDD to the driver as a local list\n",
        "print(rdd_from_list(sc, 10).collect())\n",
        "\n",
        "result_rdd = rdd_from_list(sc, 3)\n",
        "\n",
        "assert isinstance(result_rdd, RDD)\n",
        "assert result_rdd.collect() == [1, 2, 3]"
      ]
    },
    {
      "cell_type": "markdown",
      "metadata": {
        "deletable": false,
        "editable": false,
        "nbgrader": {
          "cell_type": "markdown",
          "checksum": "eb399aea31e20fd467e31e89a8b19260",
          "grade": false,
          "grade_id": "cell-48b9991b1369dcef",
          "locked": true,
          "schema_version": 3,
          "solution": false
        },
        "id": "77t7Yuca9GpY"
      },
      "source": [
        "## Question\n",
        "\n",
        "Generate a RDD from a file with the `textFile()` method."
      ]
    },
    {
      "cell_type": "code",
      "execution_count": 15,
      "metadata": {
        "id": "dZQBm_Lq9GpY"
      },
      "outputs": [],
      "source": []
    },
    {
      "cell_type": "code",
      "execution_count": 20,
      "metadata": {
        "deletable": false,
        "nbgrader": {
          "cell_type": "code",
          "checksum": "b5e8364128582bb09ea510e286a53277",
          "grade": false,
          "grade_id": "squares",
          "locked": false,
          "schema_version": 3,
          "solution": true
        },
        "id": "EeebILNU9GpY"
      },
      "outputs": [],
      "source": [
        "def load_file_to_rdd(sc, path):\n",
        "    \"\"\"\n",
        "    Create a RDD by loading an external file. We don't expect any formatting nor processing here.\n",
        "    You don't need to raise an exception if the file does not exist.\n",
        "\n",
        "    1 point\n",
        "    \"\"\"\n",
        "    return sc.textFile(path)\n",
        ""
      ]
    },
    {
      "cell_type": "code",
      "execution_count": 42,
      "metadata": {
        "deletable": false,
        "editable": false,
        "nbgrader": {
          "cell_type": "code",
          "checksum": "92d37d038773207e18ec53282a9f59a1",
          "grade": true,
          "grade_id": "cell-d3561f54014b6bb5",
          "locked": true,
          "points": 1,
          "schema_version": 3,
          "solution": false
        },
        "id": "jLULE8yb9GpY",
        "outputId": "43031ebc-280a-4792-9bad-dc203a8799b3",
        "colab": {
          "base_uri": "https://localhost:8080/"
        }
      },
      "outputs": [
        {
          "output_type": "stream",
          "name": "stdout",
          "text": [
            "policyID,statecode,county,eq_site_limit,hu_site_limit,fl_site_limit,fr_site_limit,tiv_2011,tiv_2012,eq_site_deductible,hu_site_deductible,fl_site_deductible,fr_site_deductible,point_latitude,point_longitude,line,construction,point_granularity\n",
            "[('policyid', 1), ('statecode', 1)]\n",
            "DONE\n"
          ]
        }
      ],
      "source": [
        "\"\"\"\n",
        "Graded cell\n",
        "\n",
        "1 point\n",
        "\"\"\"\n",
        "result_rdd = load_file_to_rdd(sc, filePath)\n",
        "\n",
        "assert isinstance(result_rdd, RDD)\n",
        "print(result_rdd.take(1)[0])\n",
        "assert result_rdd.take(1)[0] == 'policyID,statecode,county,eq_site_limit,hu_site_limit,fl_site_limit,fr_site_limit,tiv_2011,tiv_2012,eq_site_deductible,hu_site_deductible,fl_site_deductible,fr_site_deductible,point_latitude,point_longitude,line,construction,point_granularity'\n",
        "\n",
        "def tokenize(line):\n",
        "    return line.lower().split(\",\")\n",
        "\n",
        "words_rdd = result_rdd.flatMap(tokenize)\n",
        "\n",
        "word_pairs_rdd = words_rdd.map(lambda word: (word, 1))\n",
        "word_counts_rdd= word_pairs_rdd.reduceByKey(lambda a, b: a+b)\n",
        "#word_counts_rdd.saveAsTextFile(\"outputDir\")\n",
        "print(word_counts_rdd.take(2))\n",
        "print(\"DONE\")\n",
        "# added code to tokenize and word count\n",
        "\n",
        "\n"
      ]
    },
    {
      "cell_type": "markdown",
      "metadata": {
        "deletable": false,
        "editable": false,
        "nbgrader": {
          "cell_type": "markdown",
          "checksum": "b52be6d9dabe594e1f043681ae0d9ddb",
          "grade": false,
          "grade_id": "cell-f84584504c3c8bff",
          "locked": true,
          "schema_version": 3,
          "solution": false
        },
        "id": "nlcoV6Ni9GpZ"
      },
      "source": [
        "---\n",
        "## Part B - Classic Spark operations\n",
        "\n",
        "### Operations\n",
        "\n",
        "RDDs have two sets of parallel operations:\n",
        "\n",
        "* transformations : which return pointers to new RDDs without computing them, it rather waits for an action to compute itself.\n",
        "* actions : which return values to the driver after running the computation. The `collect()` funcion is an operation which retrieves all elements of the distributed RDD to the driver.\n",
        "\n",
        "RDD transformations are _lazy_ in a sense they do not compute their results immediately.\n",
        "\n",
        "The following exercises study the usage of the most common Spark RDD operations."
      ]
    },
    {
      "cell_type": "markdown",
      "metadata": {
        "deletable": false,
        "editable": false,
        "nbgrader": {
          "cell_type": "markdown",
          "checksum": "0e2a22926ebfefc7c0eecac97ff33eff",
          "grade": false,
          "grade_id": "cell-7f116071ceb1c875",
          "locked": true,
          "schema_version": 3,
          "solution": false
        },
        "id": "i-GPhFOE9GpZ"
      },
      "source": [
        "### .map() and flatMap() transformation\n",
        "\n",
        "The `.map(function)` applies the function given in argument to each of the elements inside the RDD.\n",
        "\n",
        "The `.flatMap(function)` applies the function given in argument to each of the elements inside the RDD, then flattens the list so that there are no more nested elements inside it."
      ]
    },
    {
      "cell_type": "markdown",
      "metadata": {
        "deletable": false,
        "editable": false,
        "nbgrader": {
          "cell_type": "markdown",
          "checksum": "b41ea877ed4c34ad77a6a3156ff957cc",
          "grade": false,
          "grade_id": "cell-342eb65e15ee383e",
          "locked": true,
          "schema_version": 3,
          "solution": false
        },
        "id": "B3Z2PU7d9GpZ"
      },
      "source": [
        "# Question 1\n",
        "\n",
        "Suppose we have a RDD containing only lists of 2 elements :\n",
        "\n",
        "```\n",
        "matrix = [[1,3], [2,5], [8,9]]\n",
        "matrix_rdd = sc.parallelize(matrix)\n",
        "```\n",
        "\n",
        "This data structure is reminiscent of a matrix.\n",
        "\n",
        "Create an operation `.op1()` which multiplies the first column (or first coordinate of each element) of the matrix by 2, and removes 3 to the second column (second coordinate)."
      ]
    },
    {
      "cell_type": "code",
      "execution_count": 24,
      "metadata": {
        "id": "O5TBcZkx9GpZ",
        "outputId": "68f1f90d-0ed3-407d-97ae-07bfd27be269",
        "colab": {
          "base_uri": "https://localhost:8080/"
        }
      },
      "outputs": [
        {
          "output_type": "execute_result",
          "data": {
            "text/plain": [
              "[1, 2]"
            ]
          },
          "metadata": {},
          "execution_count": 24
        }
      ],
      "source": [
        "sc.parallelize([[1,3], [2,9]]).map(lambda row: row[0]).collect()"
      ]
    },
    {
      "cell_type": "code",
      "execution_count": 25,
      "metadata": {
        "deletable": false,
        "nbgrader": {
          "cell_type": "code",
          "checksum": "1550ccb22d81b2142d4e85792a5cb77e",
          "grade": false,
          "grade_id": "cell-d1778b1b90db2aeb",
          "locked": false,
          "schema_version": 3,
          "solution": true
        },
        "id": "CaZkMvhz9GpZ"
      },
      "outputs": [],
      "source": [
        "def op1(sc, mat):\n",
        "    \"\"\"\n",
        "    Multiply the first coordinate by 2, remove 3 to the second\n",
        "    \"\"\"\n",
        "    # YOUR CODE HERE\n",
        "    raise NotImplementedError()"
      ]
    },
    {
      "cell_type": "code",
      "execution_count": null,
      "metadata": {
        "deletable": false,
        "editable": false,
        "nbgrader": {
          "cell_type": "code",
          "checksum": "f620f4a443bd47cb23536a64dbfe7d74",
          "grade": true,
          "grade_id": "cell-913b6c4734be52ae",
          "locked": true,
          "points": 1,
          "schema_version": 3,
          "solution": false
        },
        "id": "bic-9N3S9GpZ"
      },
      "outputs": [],
      "source": [
        "\"\"\"\n",
        "Graded cell\n",
        "\n",
        "1 point\n",
        "\"\"\"\n",
        "matrix = [[1,3], [2,5], [8,9]]\n",
        "matrix_rdd = sc.parallelize(matrix)\n",
        "result_rdd = op1(sc, matrix_rdd)\n",
        "\n",
        "assert isinstance(result_rdd, RDD)\n",
        "assert result_rdd.collect() == [[2, 0], [4, 2], [16, 6]]"
      ]
    },
    {
      "cell_type": "markdown",
      "metadata": {
        "deletable": false,
        "editable": false,
        "nbgrader": {
          "cell_type": "markdown",
          "checksum": "0e8e9388a991c4953fd9bc0f0f4692c3",
          "grade": false,
          "grade_id": "cell-ced2f194638cfde2",
          "locked": true,
          "schema_version": 3,
          "solution": false
        },
        "id": "7GoJBilL9GpZ"
      },
      "source": [
        "# Question 2\n",
        "\n",
        "Suppose we have a RDD containing sentences :\n",
        "\n",
        "```\n",
        "sentences_rdd = sc.parallelize(['Hi everybody', 'My name is Fanilo', 'and your name is Antoine everybody'])\n",
        "```\n",
        "\n",
        "Create an operation `.op2()` which returns all the words in the rdd, after splitting each sentence by the whitespace character."
      ]
    },
    {
      "cell_type": "code",
      "execution_count": null,
      "metadata": {
        "id": "JV-gxfCv9GpZ"
      },
      "outputs": [],
      "source": []
    },
    {
      "cell_type": "code",
      "execution_count": null,
      "metadata": {
        "deletable": false,
        "nbgrader": {
          "cell_type": "code",
          "checksum": "6de176074414140f241f900336e371bc",
          "grade": false,
          "grade_id": "cell-bbcf429e5c91a361",
          "locked": false,
          "schema_version": 3,
          "solution": true
        },
        "id": "TcC31VB_9GpZ"
      },
      "outputs": [],
      "source": [
        "def op2(sc, sentences):\n",
        "    \"\"\"\n",
        "    Return all words contained in the sentences.\n",
        "    \"\"\"\n",
        "    # YOUR CODE HERE\n",
        "    raise NotImplementedError()"
      ]
    },
    {
      "cell_type": "code",
      "execution_count": null,
      "metadata": {
        "deletable": false,
        "editable": false,
        "nbgrader": {
          "cell_type": "code",
          "checksum": "c826aa7f030eb1e35acd1a9999d71fdf",
          "grade": true,
          "grade_id": "cell-36ff5247a47b2779",
          "locked": true,
          "points": 1,
          "schema_version": 3,
          "solution": false
        },
        "id": "W7Ai-8P59GpZ"
      },
      "outputs": [],
      "source": [
        "\"\"\"\n",
        "Graded cell\n",
        "\n",
        "1 point\n",
        "\"\"\"\n",
        "sentences_rdd = sc.parallelize(['Hi everybody', 'My name is Fanilo', 'and your name is Antoine everybody'])\n",
        "result_rdd = op2(sc, sentences_rdd)\n",
        "\n",
        "assert isinstance(result_rdd, RDD)\n",
        "assert result_rdd.collect() == ['Hi', 'everybody', 'My', 'name', 'is', 'Fanilo', 'and', 'your', 'name', 'is', 'Antoine', 'everybody']"
      ]
    },
    {
      "cell_type": "markdown",
      "metadata": {
        "deletable": false,
        "editable": false,
        "nbgrader": {
          "cell_type": "markdown",
          "checksum": "984c73ce9d6d566f9b34a6eeb48bcc80",
          "grade": false,
          "grade_id": "cell-62e03db165712bfc",
          "locked": true,
          "schema_version": 3,
          "solution": false
        },
        "id": "LnrHT2mu9GpZ"
      },
      "source": [
        "### .filter() transformation\n",
        "\n",
        "The `.filter(function)` transformation let's us filter elements verify a certain function.\n",
        "\n",
        "# Question 3\n",
        "\n",
        "Suppose we have a RDD containing numbers.\n",
        "\n",
        "Create an operation `.op3()` which returns all the odd numbers."
      ]
    },
    {
      "cell_type": "code",
      "execution_count": null,
      "metadata": {
        "id": "SeC3eZMb9Gpa"
      },
      "outputs": [],
      "source": [
        "sc.parallelize(range(20)).filter(lambda num: num > 5).collect()"
      ]
    },
    {
      "cell_type": "code",
      "execution_count": null,
      "metadata": {
        "deletable": false,
        "nbgrader": {
          "cell_type": "code",
          "checksum": "3344e8ad1de141e0a016d56e1161a4ed",
          "grade": false,
          "grade_id": "cell-efb95c583daf308b",
          "locked": false,
          "schema_version": 3,
          "solution": true
        },
        "id": "6PCRl-qF9Gpa"
      },
      "outputs": [],
      "source": [
        "def op3(sc, numbers):\n",
        "    \"\"\"\n",
        "    Return all numbers contained in the RDD that are odd.\n",
        "    \"\"\"\n",
        "    # YOUR CODE HERE\n",
        "    raise NotImplementedError()"
      ]
    },
    {
      "cell_type": "code",
      "execution_count": null,
      "metadata": {
        "deletable": false,
        "editable": false,
        "nbgrader": {
          "cell_type": "code",
          "checksum": "c2cc36fb07e69c3babfe1c3f272c0d33",
          "grade": true,
          "grade_id": "cell-5662776e1f2e53ca",
          "locked": true,
          "points": 1,
          "schema_version": 3,
          "solution": false
        },
        "id": "53k-cuKx9Gpa"
      },
      "outputs": [],
      "source": [
        "\"\"\"\n",
        "Graded cell\n",
        "\n",
        "1 point\n",
        "\"\"\"\n",
        "numbers = [1,2,3,4,5,6,7,8,9]\n",
        "numbers_rdd = sc.parallelize(numbers)\n",
        "result_rdd = op3(sc, numbers_rdd)\n",
        "\n",
        "assert isinstance(result_rdd, RDD)\n",
        "assert result_rdd.collect() == [1,3,5,7,9]"
      ]
    },
    {
      "cell_type": "markdown",
      "metadata": {
        "deletable": false,
        "editable": false,
        "nbgrader": {
          "cell_type": "markdown",
          "checksum": "9ff0a09a883dfff4ad08126197511364",
          "grade": false,
          "grade_id": "cell-caeb332999c988ea",
          "locked": true,
          "schema_version": 3,
          "solution": false
        },
        "id": "CfPvY9Uu9Gpa"
      },
      "source": [
        "### .reduce() operation\n",
        "\n",
        "The `.reduce(function)` transformation reduces all elements of the RDD into one using a specific method.\n",
        "\n",
        "Do take note that, as in the Hadoop ecosystem, the function used to reduce the dataset should be associative and commutative.\n",
        "\n",
        "# Question 4\n",
        "\n",
        "Suppose we have a RDD containing numbers.\n",
        "\n",
        "Create an operation `.op4()` which returns the sum of all squared odd numbers in the RDD, using the `.reduce()` operation.\n",
        "\n",
        "_Hint: now's a good time to tell you that chaining transformations is possible..._"
      ]
    },
    {
      "cell_type": "code",
      "execution_count": null,
      "metadata": {
        "id": "BDfNKiiJ9Gpa"
      },
      "outputs": [],
      "source": [
        "sc.parallelize(range(4)).reduce(lambda x,y: x+y)"
      ]
    },
    {
      "cell_type": "code",
      "execution_count": null,
      "metadata": {
        "deletable": false,
        "nbgrader": {
          "cell_type": "code",
          "checksum": "84cd7e61b6cb00ba0c78fc9fb45d0c47",
          "grade": false,
          "grade_id": "cell-d891217753161c52",
          "locked": false,
          "schema_version": 3,
          "solution": true
        },
        "id": "ju5IrN9K9Gpa"
      },
      "outputs": [],
      "source": [
        "def op4(sc, numbers):\n",
        "    \"\"\"\n",
        "    Return the sum of all squared odd numbers.\n",
        "    \"\"\"\n",
        "    # YOUR CODE HERE\n",
        "    raise NotImplementedError()"
      ]
    },
    {
      "cell_type": "code",
      "execution_count": null,
      "metadata": {
        "deletable": false,
        "editable": false,
        "nbgrader": {
          "cell_type": "code",
          "checksum": "8ce6feff291f7b56b2012c3ce657b046",
          "grade": true,
          "grade_id": "cell-f10cd6cece8dcb17",
          "locked": true,
          "points": 1,
          "schema_version": 3,
          "solution": false
        },
        "id": "018PHNq39Gpa"
      },
      "outputs": [],
      "source": [
        "\"\"\"\n",
        "Graded cell\n",
        "\n",
        "1 point\n",
        "\"\"\"\n",
        "numbers = range(100)\n",
        "numbers_rdd = sc.parallelize(numbers)\n",
        "result = op4(sc, numbers_rdd)\n",
        "\n",
        "assert result == 166650"
      ]
    },
    {
      "cell_type": "markdown",
      "metadata": {
        "deletable": false,
        "editable": false,
        "nbgrader": {
          "cell_type": "markdown",
          "checksum": "890bf5005f682e2a031a0f1009ad1217",
          "grade": false,
          "grade_id": "cell-391e2e22f0a505b3",
          "locked": true,
          "schema_version": 3,
          "solution": false
        },
        "id": "TAQWKwOo9Gpa"
      },
      "source": [
        "---\n",
        "## Part C - Paired RDDs\n",
        "\n",
        "If you recall the classic MapReduce paradigm, you were dealing with key/value pairs to reduce your data in a distributed manner. We define a pair as a tuple of two elements, the first element being the key and the second the value.\n",
        "\n",
        "Key/value pairs are good for solving many problems efficiently in a parallel fashion so let us delve into them.\n",
        "\n",
        "```\n",
        "pairs = [('b', 3), ('d', 4), ('a', 6), ('f', 1), ('e', 2)]\n",
        "pairs_rdd = sc.parallelize(pairs)\n",
        "```"
      ]
    },
    {
      "cell_type": "markdown",
      "metadata": {
        "deletable": false,
        "editable": false,
        "nbgrader": {
          "cell_type": "markdown",
          "checksum": "dd0733c13e52e663f31f25f51825b5f7",
          "grade": false,
          "grade_id": "cell-12805969a41d030e",
          "locked": true,
          "schema_version": 3,
          "solution": false
        },
        "id": "sulvjZEU9Gpa"
      },
      "source": [
        "### reduceByKey\n",
        "\n",
        "The `.reduceByKey()` method works in a similar way to the `.reduce()`, but it performs a reduction on a key-by-key basis.\n",
        "\n",
        "# Question\n",
        "\n",
        "Time for the classic Hello world question !"
      ]
    },
    {
      "cell_type": "code",
      "execution_count": null,
      "metadata": {
        "id": "20oKjmgk9Gpa"
      },
      "outputs": [],
      "source": [
        "sc.parallelize(range(10)).map(lambda num: (num % 2, num)).reduceByKey(lambda x,y: x+y).collect()"
      ]
    },
    {
      "cell_type": "code",
      "execution_count": null,
      "metadata": {
        "deletable": false,
        "nbgrader": {
          "cell_type": "code",
          "checksum": "986e25b3dd7a166cefa5da214c5413ec",
          "grade": false,
          "grade_id": "cell-ace3daeea89fa242",
          "locked": false,
          "schema_version": 3,
          "solution": true
        },
        "id": "S-4VO2iw9Gpa"
      },
      "outputs": [],
      "source": [
        "def wordcount(sc, sentences):\n",
        "    \"\"\"\n",
        "    Given a RDD of sentences, return the wordcount, after splitting sentences per whitespace.\n",
        "    \"\"\"\n",
        "    # YOUR CODE HERE\n",
        "    raise NotImplementedError()"
      ]
    },
    {
      "cell_type": "code",
      "execution_count": null,
      "metadata": {
        "deletable": false,
        "editable": false,
        "nbgrader": {
          "cell_type": "code",
          "checksum": "0cb845378ba030bfc65490e5f0959b7b",
          "grade": true,
          "grade_id": "cell-e2242b91551eb662",
          "locked": true,
          "points": 4,
          "schema_version": 3,
          "solution": false
        },
        "id": "5fg-ztY89Gph"
      },
      "outputs": [],
      "source": [
        "\"\"\"\n",
        "Graded cell\n",
        "\n",
        "4 points\n",
        "\"\"\"\n",
        "sentences_rdd = sc.parallelize(['Hi everybody', 'My name is Fanilo', 'and your name is Antoine everybody'])\n",
        "result_rdd = wordcount(sc, sentences_rdd)\n",
        "\n",
        "assert isinstance(result_rdd, RDD)\n",
        "assert result_rdd.collect() == [\n",
        "    ('Hi', 1),\n",
        "    ('everybody', 2),\n",
        "    ('My', 1),\n",
        "    ('name', 2),\n",
        "    ('is', 2),\n",
        "    ('Fanilo', 1),\n",
        "    ('and', 1),\n",
        "    ('your', 1),\n",
        "    ('Antoine', 1)\n",
        "]"
      ]
    },
    {
      "cell_type": "markdown",
      "metadata": {
        "deletable": false,
        "editable": false,
        "nbgrader": {
          "cell_type": "markdown",
          "checksum": "ce70a16553accbcccec879264195a6f4",
          "grade": false,
          "grade_id": "cell-5698211381a62fe3",
          "locked": true,
          "schema_version": 3,
          "solution": false
        },
        "id": "3YTnsddR9Gph"
      },
      "source": [
        "### join\n",
        "\n",
        "The `.join()` method joins two RDD of pairs together on their key element.\n",
        "\n",
        "# Question\n",
        "\n",
        "Let's give ourselves a `student-gender` RDD and a `student-grade` RDD. Compute the mean grade for each gender.\n",
        "\n",
        "_Hint: this is a long exercise. Remember that the mean for a gender equals the sum of all grades divided by the count of the number of grades. You already know how to sum by key, and you can use the `countByKey()` function for returning a hashmap of gender to count of grades, then use that hashmap inside a map function to divide. Good luck !_"
      ]
    },
    {
      "cell_type": "code",
      "execution_count": null,
      "metadata": {
        "id": "2OIbuCog9Gph"
      },
      "outputs": [],
      "source": [
        "genders_rdd = sc.parallelize([('1', 'M'), ('2', 'M'), ('3', 'F'), ('4', 'F'), ('5', 'F'), ('6', 'M')])\n",
        "grades_rdd = sc.parallelize([('1', 5), ('2', 12), ('3', 7), ('4', 18), ('5', 9), ('6', 5)])\n",
        "\n",
        "genders_rdd.join(grades_rdd).collect()"
      ]
    },
    {
      "cell_type": "code",
      "execution_count": null,
      "metadata": {
        "deletable": false,
        "nbgrader": {
          "cell_type": "code",
          "checksum": "c2b9d2219211a607ec4cff9cac67fac0",
          "grade": false,
          "grade_id": "cell-2d55f7981405f5b5",
          "locked": false,
          "schema_version": 3,
          "solution": true
        },
        "id": "Ey6hGy_w9Gph"
      },
      "outputs": [],
      "source": [
        "def mean_grade_per_gender(sc, genders, grades):\n",
        "    \"\"\"\n",
        "    Given a RDD of studentID to grades and studentID to gender, compute mean grade for each gender returned as paired RDD.\n",
        "    Assume all studentIDs are present in both RDDs, making inner join possible, no need to check that.\n",
        "    \"\"\"\n",
        "    # YOUR CODE HERE\n",
        "    raise NotImplementedError()"
      ]
    },
    {
      "cell_type": "code",
      "execution_count": null,
      "metadata": {
        "deletable": false,
        "editable": false,
        "nbgrader": {
          "cell_type": "code",
          "checksum": "14d8e9c4a78a493099f985f2868ae6ed",
          "grade": true,
          "grade_id": "cell-6d80889d087cf7d2",
          "locked": true,
          "points": 4,
          "schema_version": 3,
          "solution": false
        },
        "id": "FIUairHT9Gph"
      },
      "outputs": [],
      "source": [
        "\"\"\"\n",
        "Graded cell\n",
        "\n",
        "4 points\n",
        "\"\"\"\n",
        "genders_rdd = sc.parallelize([('1', 'M'), ('2', 'M'), ('3', 'F'), ('4', 'F'), ('5', 'F'), ('6', 'M')])\n",
        "grades_rdd = sc.parallelize([('1', 5), ('2', 12), ('3', 7), ('4', 18), ('5', 9), ('6', 5)])\n",
        "\n",
        "result_rdd = mean_grade_per_gender(sc, genders_rdd, grades_rdd)\n",
        "assert isinstance(result_rdd, RDD)\n",
        "assert result_rdd.collect() == [('M', 7.333333333333333), ('F', 11.333333333333334)]"
      ]
    },
    {
      "cell_type": "markdown",
      "metadata": {
        "deletable": false,
        "editable": false,
        "nbgrader": {
          "cell_type": "markdown",
          "checksum": "cbe60c4828389623059105e1133040b9",
          "grade": false,
          "grade_id": "cell-2d278c9e38215b83",
          "locked": true,
          "schema_version": 3,
          "solution": false
        },
        "id": "cCoX7c309Gph"
      },
      "source": [
        "---\n",
        "## Part D - Operations on a file\n",
        "\n",
        "We provide a `FL_insurance_sample.csv` file inside the `data` folder to use in our computations, it will be loaded through  `load_file_to_rdd()` you have previously implemented."
      ]
    },
    {
      "cell_type": "markdown",
      "metadata": {
        "deletable": false,
        "editable": false,
        "nbgrader": {
          "cell_type": "markdown",
          "checksum": "05b50fe004c803101542e231437be159",
          "grade": false,
          "grade_id": "cell-2192f6b1d0768275",
          "locked": true,
          "schema_version": 3,
          "solution": false
        },
        "id": "cFEv9DqU9Gph"
      },
      "source": [
        "## Question\n",
        "\n",
        "The first line of the CSV is the header, and it is annoying to have it mixed with the data. In the lower-level RDD API we need to write code to specifically filter that first line.\n",
        "\n",
        "**Hint** : `rdd.zipwithindex()` is a useful function when you need to filter by position in a file _(though computationally expensive)_."
      ]
    },
    {
      "cell_type": "code",
      "execution_count": null,
      "metadata": {
        "id": "RckHhRvd9Gph"
      },
      "outputs": [],
      "source": [
        "sc.parallelize(['a', 'b', 'c', 'd']).zipWithIndex().collect()"
      ]
    },
    {
      "cell_type": "code",
      "execution_count": null,
      "metadata": {
        "deletable": false,
        "nbgrader": {
          "cell_type": "code",
          "checksum": "61b1d0276b34eb5997a6318cdc9c7a32",
          "grade": false,
          "grade_id": "cell-d935e16d7d44ad5f",
          "locked": false,
          "schema_version": 3,
          "solution": true
        },
        "id": "Mu-OXf3x9Gpi"
      },
      "outputs": [],
      "source": [
        "def filter_header(sc, rdd):\n",
        "    \"\"\"\n",
        "    From the FL insurance RDD, remove the first line.\n",
        "    \"\"\"\n",
        "    # YOUR CODE HERE\n",
        "    raise NotImplementedError()"
      ]
    },
    {
      "cell_type": "code",
      "execution_count": null,
      "metadata": {
        "deletable": false,
        "editable": false,
        "nbgrader": {
          "cell_type": "code",
          "checksum": "c65293caeac79a96c1a71dfd22bb881f",
          "grade": true,
          "grade_id": "cell-af2d9a5d3c53aa1f",
          "locked": true,
          "points": 2,
          "schema_version": 3,
          "solution": false
        },
        "id": "bcn_czqZ9Gpi"
      },
      "outputs": [],
      "source": [
        "\"\"\"\n",
        "Graded cell\n",
        "\n",
        "2 points\n",
        "\"\"\"\n",
        "header = 'policyID,statecode,county,eq_site_limit,hu_site_limit,fl_site_limit,fr_site_limit,tiv_2011,tiv_2012,eq_site_deductible,hu_site_deductible,fl_site_deductible,fr_site_deductible,point_latitude,point_longitude,line,construction,point_granularity'\n",
        "file = load_file_to_rdd(sc, filePath)\n",
        "result_rdd = filter_header(sc, file)\n",
        "\n",
        "assert isinstance(result_rdd, RDD)\n",
        "assert file.filter(lambda line: line==header).collect()\n",
        "assert not result_rdd.filter(lambda line: line == header).collect()"
      ]
    },
    {
      "cell_type": "markdown",
      "metadata": {
        "deletable": false,
        "editable": false,
        "nbgrader": {
          "cell_type": "markdown",
          "checksum": "59b05457438c76b04f0ea5c5ac39b7f1",
          "grade": false,
          "grade_id": "cell-0812ba9c37c5b9db",
          "locked": true,
          "schema_version": 3,
          "solution": false
        },
        "id": "_LGCXkEF9Gpi"
      },
      "source": [
        "In the following questions, we will work on the file without it's header, it will be stored inside the `file_rdd` variable. You can reuse this variable in your tests.\n",
        "\n",
        "## Question\n",
        "\n",
        "Let's try some statistics on the `county` variable, which is the second column of the dataset."
      ]
    },
    {
      "cell_type": "code",
      "execution_count": null,
      "metadata": {
        "deletable": false,
        "editable": false,
        "nbgrader": {
          "cell_type": "code",
          "checksum": "b18c847b1b91c6831c7364511785028b",
          "grade": false,
          "grade_id": "cell-728c14e2ea230b52",
          "locked": true,
          "schema_version": 3,
          "solution": false
        },
        "id": "Dk2OSXrl9Gpi"
      },
      "outputs": [],
      "source": [
        "file_rdd = filter_header(sc, load_file_to_rdd(sc, filePath))"
      ]
    },
    {
      "cell_type": "code",
      "execution_count": null,
      "metadata": {
        "id": "N6yMtSF49Gpi"
      },
      "outputs": [],
      "source": []
    },
    {
      "cell_type": "code",
      "execution_count": null,
      "metadata": {
        "deletable": false,
        "nbgrader": {
          "cell_type": "code",
          "checksum": "463ac01f3e510fb04c9cea6f96e25658",
          "grade": false,
          "grade_id": "cell-ed5c6a9bbd1923f3",
          "locked": false,
          "schema_version": 3,
          "solution": true
        },
        "id": "f-5CW3qB9Gpi"
      },
      "outputs": [],
      "source": [
        "def get_county(sc, rdd):\n",
        "    \"\"\"\n",
        "    From the FL insurance RDD, return a RDD containing all of the county.\n",
        "    We assume the csv is correctly formatted and every line has the correct number of elements.\n",
        "    \"\"\"\n",
        "    # YOUR CODE HERE\n",
        "    raise NotImplementedError()\n",
        "\n",
        "def county_count(sc, rdd):\n",
        "    \"\"\"\n",
        "    Return a RDD of key,value with county as key, count as values\n",
        "    \"\"\"\n",
        "    # YOUR CODE HERE\n",
        "    raise NotImplementedError()"
      ]
    },
    {
      "cell_type": "code",
      "execution_count": null,
      "metadata": {
        "deletable": false,
        "editable": false,
        "nbgrader": {
          "cell_type": "code",
          "checksum": "821af9f3206153c629ae7299ff14eb31",
          "grade": true,
          "grade_id": "cell-971c355420b23d94",
          "locked": true,
          "points": 4,
          "schema_version": 3,
          "solution": false
        },
        "id": "0bTNf_RN9Gpi"
      },
      "outputs": [],
      "source": [
        "\"\"\"\n",
        "Graded cell\n",
        "\n",
        "4 points\n",
        "\"\"\"\n",
        "\n",
        "# CAREFUL: some tests are invisible so don't try to output a dictionary with what looks like the correct answers :)\n",
        "file_rdd = filter_header(sc, load_file_to_rdd(sc, filePath))\n",
        "county_rdd = get_county(sc, file_rdd)\n",
        "\n",
        "result = dict(county_count(sc, county_rdd).collect())\n",
        "assert result.get('CLAY COUNTY') == 346"
      ]
    },
    {
      "cell_type": "markdown",
      "metadata": {
        "deletable": false,
        "editable": false,
        "nbgrader": {
          "cell_type": "markdown",
          "checksum": "d75cbf099ce2aee9652f18abbfc32e05",
          "grade": false,
          "grade_id": "cell-de77b5cdcf65a673",
          "locked": true,
          "schema_version": 3,
          "solution": false
        },
        "id": "6SGOaXzn9Gpi"
      },
      "source": [
        "# Postrequisites"
      ]
    },
    {
      "cell_type": "code",
      "execution_count": null,
      "metadata": {
        "deletable": false,
        "editable": false,
        "nbgrader": {
          "cell_type": "code",
          "checksum": "85beee12fb356dd852fe0fe380ef93c0",
          "grade": false,
          "grade_id": "stop-sc",
          "locked": true,
          "schema_version": 3,
          "solution": false
        },
        "id": "yOt_eQd19Gpi"
      },
      "outputs": [],
      "source": [
        "sc.stop()"
      ]
    }
  ],
  "metadata": {
    "kernelspec": {
      "display_name": "Python 3 (ipykernel)",
      "language": "python",
      "name": "python3"
    },
    "language_info": {
      "codemirror_mode": {
        "name": "ipython",
        "version": 3
      },
      "file_extension": ".py",
      "mimetype": "text/x-python",
      "name": "python",
      "nbconvert_exporter": "python",
      "pygments_lexer": "ipython3",
      "version": "3.8.12"
    },
    "colab": {
      "provenance": []
    }
  },
  "nbformat": 4,
  "nbformat_minor": 0
}